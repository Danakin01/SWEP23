{
 "cells": [
  {
   "cell_type": "code",
   "execution_count": 13,
   "id": "1c2fb4a7",
   "metadata": {
    "scrolled": true
   },
   "outputs": [
    {
     "name": "stdout",
     "output_type": "stream",
     "text": [
      "what is your name Daniel Akinwande\n",
      "what is your age: 20\n"
     ]
    }
   ],
   "source": [
    "my_name=input('what is your name ')\n",
    "my_age=input('what is your age: ')\n"
   ]
  },
  {
   "cell_type": "code",
   "execution_count": 14,
   "id": "22e24cf0",
   "metadata": {},
   "outputs": [
    {
     "data": {
      "text/plain": [
       "16"
      ]
     },
     "execution_count": 14,
     "metadata": {},
     "output_type": "execute_result"
    }
   ],
   "source": [
    "len(my_name)"
   ]
  },
  {
   "cell_type": "code",
   "execution_count": 16,
   "id": "fc1a5af6",
   "metadata": {},
   "outputs": [
    {
     "data": {
      "text/plain": [
       "str"
      ]
     },
     "execution_count": 16,
     "metadata": {},
     "output_type": "execute_result"
    }
   ],
   "source": [
    "type(my_name)"
   ]
  },
  {
   "cell_type": "code",
   "execution_count": 19,
   "id": "3494d14d",
   "metadata": {},
   "outputs": [
    {
     "ename": "SyntaxError",
     "evalue": "invalid syntax (2941387931.py, line 1)",
     "output_type": "error",
     "traceback": [
      "\u001b[1;36m  File \u001b[1;32m\"C:\\Users\\admin\\AppData\\Local\\Temp\\ipykernel_7568\\2941387931.py\"\u001b[1;36m, line \u001b[1;32m1\u001b[0m\n\u001b[1;33m    int my_age;\u001b[0m\n\u001b[1;37m        ^\u001b[0m\n\u001b[1;31mSyntaxError\u001b[0m\u001b[1;31m:\u001b[0m invalid syntax\n"
     ]
    }
   ],
   "source": [
    "int my_age;\n",
    "b = 2023 ;\n",
    "print(b - a)\n"
   ]
  },
  {
   "cell_type": "code",
   "execution_count": 28,
   "id": "b4e6b564",
   "metadata": {},
   "outputs": [
    {
     "ename": "KeyboardInterrupt",
     "evalue": "Interrupted by user",
     "output_type": "error",
     "traceback": [
      "\u001b[1;31m---------------------------------------------------------------------------\u001b[0m",
      "\u001b[1;31mKeyboardInterrupt\u001b[0m                         Traceback (most recent call last)",
      "\u001b[1;32m~\\AppData\\Local\\Temp\\ipykernel_7568\\802867932.py\u001b[0m in \u001b[0;36m<module>\u001b[1;34m\u001b[0m\n\u001b[1;32m----> 1\u001b[1;33m \u001b[0mname\u001b[0m \u001b[1;33m=\u001b[0m \u001b[0minput\u001b[0m\u001b[1;33m(\u001b[0m\u001b[1;34m\"What is your name:\"\u001b[0m\u001b[1;33m)\u001b[0m\u001b[1;33m\u001b[0m\u001b[1;33m\u001b[0m\u001b[0m\n\u001b[0m\u001b[0;32m      2\u001b[0m \u001b[0mage\u001b[0m \u001b[1;33m=\u001b[0m \u001b[0minput\u001b[0m\u001b[1;33m(\u001b[0m\u001b[1;34m\"How old are you?\"\u001b[0m\u001b[1;33m)\u001b[0m\u001b[1;33m\u001b[0m\u001b[1;33m\u001b[0m\u001b[0m\n\u001b[0;32m      3\u001b[0m \u001b[0mb\u001b[0m \u001b[1;33m=\u001b[0m \u001b[1;36m2023\u001b[0m\u001b[1;33m;\u001b[0m\u001b[1;33m\u001b[0m\u001b[1;33m\u001b[0m\u001b[0m\n\u001b[0;32m      4\u001b[0m \u001b[0mprint\u001b[0m\u001b[1;33m(\u001b[0m\u001b[1;34mf\"Welcome Mr. {name}, you are {age} years old\"\u001b[0m\u001b[1;33m)\u001b[0m\u001b[1;33m\u001b[0m\u001b[1;33m\u001b[0m\u001b[0m\n",
      "\u001b[1;32m~\\anaconda3\\lib\\site-packages\\ipykernel\\kernelbase.py\u001b[0m in \u001b[0;36mraw_input\u001b[1;34m(self, prompt)\u001b[0m\n\u001b[0;32m   1175\u001b[0m                 \u001b[1;34m\"raw_input was called, but this frontend does not support input requests.\"\u001b[0m\u001b[1;33m\u001b[0m\u001b[1;33m\u001b[0m\u001b[0m\n\u001b[0;32m   1176\u001b[0m             )\n\u001b[1;32m-> 1177\u001b[1;33m         return self._input_request(\n\u001b[0m\u001b[0;32m   1178\u001b[0m             \u001b[0mstr\u001b[0m\u001b[1;33m(\u001b[0m\u001b[0mprompt\u001b[0m\u001b[1;33m)\u001b[0m\u001b[1;33m,\u001b[0m\u001b[1;33m\u001b[0m\u001b[1;33m\u001b[0m\u001b[0m\n\u001b[0;32m   1179\u001b[0m             \u001b[0mself\u001b[0m\u001b[1;33m.\u001b[0m\u001b[0m_parent_ident\u001b[0m\u001b[1;33m[\u001b[0m\u001b[1;34m\"shell\"\u001b[0m\u001b[1;33m]\u001b[0m\u001b[1;33m,\u001b[0m\u001b[1;33m\u001b[0m\u001b[1;33m\u001b[0m\u001b[0m\n",
      "\u001b[1;32m~\\anaconda3\\lib\\site-packages\\ipykernel\\kernelbase.py\u001b[0m in \u001b[0;36m_input_request\u001b[1;34m(self, prompt, ident, parent, password)\u001b[0m\n\u001b[0;32m   1217\u001b[0m             \u001b[1;32mexcept\u001b[0m \u001b[0mKeyboardInterrupt\u001b[0m\u001b[1;33m:\u001b[0m\u001b[1;33m\u001b[0m\u001b[1;33m\u001b[0m\u001b[0m\n\u001b[0;32m   1218\u001b[0m                 \u001b[1;31m# re-raise KeyboardInterrupt, to truncate traceback\u001b[0m\u001b[1;33m\u001b[0m\u001b[1;33m\u001b[0m\u001b[0m\n\u001b[1;32m-> 1219\u001b[1;33m                 \u001b[1;32mraise\u001b[0m \u001b[0mKeyboardInterrupt\u001b[0m\u001b[1;33m(\u001b[0m\u001b[1;34m\"Interrupted by user\"\u001b[0m\u001b[1;33m)\u001b[0m \u001b[1;32mfrom\u001b[0m \u001b[1;32mNone\u001b[0m\u001b[1;33m\u001b[0m\u001b[1;33m\u001b[0m\u001b[0m\n\u001b[0m\u001b[0;32m   1220\u001b[0m             \u001b[1;32mexcept\u001b[0m \u001b[0mException\u001b[0m\u001b[1;33m:\u001b[0m\u001b[1;33m\u001b[0m\u001b[1;33m\u001b[0m\u001b[0m\n\u001b[0;32m   1221\u001b[0m                 \u001b[0mself\u001b[0m\u001b[1;33m.\u001b[0m\u001b[0mlog\u001b[0m\u001b[1;33m.\u001b[0m\u001b[0mwarning\u001b[0m\u001b[1;33m(\u001b[0m\u001b[1;34m\"Invalid Message:\"\u001b[0m\u001b[1;33m,\u001b[0m \u001b[0mexc_info\u001b[0m\u001b[1;33m=\u001b[0m\u001b[1;32mTrue\u001b[0m\u001b[1;33m)\u001b[0m\u001b[1;33m\u001b[0m\u001b[1;33m\u001b[0m\u001b[0m\n",
      "\u001b[1;31mKeyboardInterrupt\u001b[0m: Interrupted by user"
     ]
    }
   ],
   "source": [
    "name = input(\"What is your name:\")\n",
    "age = input(\"How old are you?\")\n",
    "b = 2023;\n",
    "print(f\"Welcome Mr. {name}, you are {age} years old\")\n"
   ]
  },
  {
   "cell_type": "code",
   "execution_count": 34,
   "id": "cad21dbe",
   "metadata": {},
   "outputs": [
    {
     "name": "stdout",
     "output_type": "stream",
     "text": [
      "Daniel\n"
     ]
    }
   ],
   "source": [
    "names  = ['Daniel', 'Giwa', 'Sewa', 'Habeeb', 'Quayyum', 'David']\n",
    "age = [12, 13, 14, 15, 16, 17]\n",
    "print(names[-6])"
   ]
  },
  {
   "cell_type": "code",
   "execution_count": 50,
   "id": "a89ecf16",
   "metadata": {},
   "outputs": [
    {
     "name": "stdout",
     "output_type": "stream",
     "text": [
      "['Daniel', 'Josh', 'Josh', 'Josh', 'Josh', 'Josh', 'Josh', 'Josh', 'Josh', 'Giwa', 'Sewa', 'Habeeb', 'Quayyum', 'David', 'Josh', 'Gad', 'Gad', 'Gad', 'Gad', 'Gad', 'Gad', 'Esther']\n"
     ]
    }
   ],
   "source": [
    "names.append('Esther')\n",
    "names\n",
    "print(names)"
   ]
  },
  {
   "cell_type": "code",
   "execution_count": 73,
   "id": "229826c3",
   "metadata": {},
   "outputs": [
    {
     "name": "stdout",
     "output_type": "stream",
     "text": [
      "['Daniel', 'Josh', 'Josh', 'Josh', 'Josh', 'Josh', 'Josh', 'Josh', 'Giwa', 'Sewa', 'Habeeb', 'Quayyum', 'David', 'Josh', 'Gad', 'Gad', 'Gad', 'Gad', 'Gad', 'Gad', 'Gad', 'Gad']\n"
     ]
    }
   ],
   "source": [
    "names.append('Gad')\n",
    "names.pop(5)\n",
    "names\n",
    "print(names)"
   ]
  },
  {
   "cell_type": "code",
   "execution_count": 80,
   "id": "7e438ce1",
   "metadata": {},
   "outputs": [
    {
     "name": "stdout",
     "output_type": "stream",
     "text": [
      "['Daniel', 'Josh', 'Josh', 'Josh', 'Josh', 'Josh', 'Josh', 'Josh', 'Giwa', 'Sewa', 'Habeeb', 'Quayyum', 'David', 'Josh', 'Gad', 'Gad', 'Gad', 'Gad', 'Gad']\n"
     ]
    }
   ],
   "source": [
    "print(names)"
   ]
  },
  {
   "cell_type": "code",
   "execution_count": 85,
   "id": "c54a9de1",
   "metadata": {},
   "outputs": [
    {
     "name": "stdout",
     "output_type": "stream",
     "text": [
      "['Daniel', 'David', 'Gad', 'Gad', 'Gad', 'Gad', 'Gad', 'Giwa', 'Habeeb', 'Josh', 'Josh', 'Josh', 'Josh', 'Josh', 'Josh', 'Josh', 'Josh', 'Quayyum', 'Sewa']\n"
     ]
    }
   ],
   "source": [
    "names.sort(reverse=False)\n",
    "print(names)"
   ]
  },
  {
   "cell_type": "code",
   "execution_count": 88,
   "id": "13945bf4",
   "metadata": {},
   "outputs": [],
   "source": [
    "store = {'fruit':['Apple', 'Mangoes', 'Oranges'],\n",
    "        'price':[150, 100, 60],\n",
    "        'quantity':[350, 800, 400]}"
   ]
  },
  {
   "cell_type": "code",
   "execution_count": 89,
   "id": "4b1084a4",
   "metadata": {},
   "outputs": [
    {
     "data": {
      "text/plain": [
       "dict_keys(['fruit', 'price', 'quantity'])"
      ]
     },
     "execution_count": 89,
     "metadata": {},
     "output_type": "execute_result"
    }
   ],
   "source": [
    "store.keys()"
   ]
  },
  {
   "cell_type": "code",
   "execution_count": 91,
   "id": "44db7304",
   "metadata": {},
   "outputs": [
    {
     "data": {
      "text/plain": [
       "dict_values([['Apple', 'Mangoes', 'Oranges'], [150, 100, 60], [350, 800, 400]])"
      ]
     },
     "execution_count": 91,
     "metadata": {},
     "output_type": "execute_result"
    }
   ],
   "source": [
    "store.values()"
   ]
  },
  {
   "cell_type": "code",
   "execution_count": 96,
   "id": "6ce5bc21",
   "metadata": {},
   "outputs": [
    {
     "data": {
      "text/plain": [
       "{'fruit': ['Apple', 'Mangoes', 'Oranges'],\n",
       " 'price': [150, 100, 60],\n",
       " 'quantity': [350, 800, 400],\n",
       " 'retail': [20, 130, 68]}"
      ]
     },
     "execution_count": 96,
     "metadata": {},
     "output_type": "execute_result"
    }
   ],
   "source": [
    "store.update({'retail':[20, 130, 68]})\n",
    "store"
   ]
  },
  {
   "cell_type": "code",
   "execution_count": 98,
   "id": "ef66e082",
   "metadata": {},
   "outputs": [
    {
     "data": {
      "text/plain": [
       "[150, 100, 60]"
      ]
     },
     "execution_count": 98,
     "metadata": {},
     "output_type": "execute_result"
    }
   ],
   "source": [
    "store.pop('price')"
   ]
  },
  {
   "cell_type": "code",
   "execution_count": 99,
   "id": "1ba825f3",
   "metadata": {},
   "outputs": [
    {
     "name": "stdout",
     "output_type": "stream",
     "text": [
      "{'fruit': ['Apple', 'Mangoes', 'Oranges'], 'quantity': [350, 800, 400]}\n"
     ]
    }
   ],
   "source": [
    "print(store)"
   ]
  },
  {
   "cell_type": "code",
   "execution_count": 100,
   "id": "e3e235d4",
   "metadata": {},
   "outputs": [
    {
     "data": {
      "text/plain": [
       "163"
      ]
     },
     "execution_count": 100,
     "metadata": {},
     "output_type": "execute_result"
    }
   ],
   "source": [
    "num = (23, 21, 44, 51, 12, 12)\n",
    "sum(num)"
   ]
  },
  {
   "cell_type": "code",
   "execution_count": 101,
   "id": "649ec86d",
   "metadata": {},
   "outputs": [
    {
     "data": {
      "text/plain": [
       "6"
      ]
     },
     "execution_count": 101,
     "metadata": {},
     "output_type": "execute_result"
    }
   ],
   "source": [
    "len(num)"
   ]
  },
  {
   "cell_type": "code",
   "execution_count": 108,
   "id": "486781ad",
   "metadata": {},
   "outputs": [
    {
     "data": {
      "text/plain": [
       "27.17"
      ]
     },
     "execution_count": 108,
     "metadata": {},
     "output_type": "execute_result"
    }
   ],
   "source": [
    "round(sum(num)/len(num), 2)"
   ]
  },
  {
   "cell_type": "code",
   "execution_count": 109,
   "id": "acac590a",
   "metadata": {},
   "outputs": [],
   "source": [
    "def mean (x):\n",
    "    a= round(sum(x)/len(x), 2)\n",
    "    return a"
   ]
  }
 ],
 "metadata": {
  "kernelspec": {
   "display_name": "Python 3 (ipykernel)",
   "language": "python",
   "name": "python3"
  },
  "language_info": {
   "codemirror_mode": {
    "name": "ipython",
    "version": 3
   },
   "file_extension": ".py",
   "mimetype": "text/x-python",
   "name": "python",
   "nbconvert_exporter": "python",
   "pygments_lexer": "ipython3",
   "version": "3.9.13"
  }
 },
 "nbformat": 4,
 "nbformat_minor": 5
}
