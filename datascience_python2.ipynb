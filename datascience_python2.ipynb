{
 "cells": [
  {
   "cell_type": "code",
   "execution_count": 22,
   "id": "8bc3601b",
   "metadata": {
    "collapsed": true
   },
   "outputs": [
    {
     "ename": "KeyboardInterrupt",
     "evalue": "Interrupted by user",
     "output_type": "error",
     "traceback": [
      "\u001b[1;31m---------------------------------------------------------------------------\u001b[0m",
      "\u001b[1;31mKeyboardInterrupt\u001b[0m                         Traceback (most recent call last)",
      "\u001b[1;32m~\\AppData\\Local\\Temp\\ipykernel_9824\\169380181.py\u001b[0m in \u001b[0;36m<module>\u001b[1;34m\u001b[0m\n\u001b[1;32m----> 1\u001b[1;33m \u001b[0mname\u001b[0m \u001b[1;33m=\u001b[0m \u001b[0mstr\u001b[0m\u001b[1;33m(\u001b[0m\u001b[0minput\u001b[0m\u001b[1;33m(\u001b[0m\u001b[1;34m\"Enter your name: \"\u001b[0m\u001b[1;33m)\u001b[0m\u001b[1;33m)\u001b[0m\u001b[1;33m\u001b[0m\u001b[1;33m\u001b[0m\u001b[0m\n\u001b[0m\u001b[0;32m      2\u001b[0m \u001b[0mheight\u001b[0m \u001b[1;33m=\u001b[0m \u001b[0mfloat\u001b[0m\u001b[1;33m(\u001b[0m\u001b[0minput\u001b[0m\u001b[1;33m(\u001b[0m\u001b[1;34m\"Enter your height(m): \"\u001b[0m\u001b[1;33m)\u001b[0m\u001b[1;33m)\u001b[0m\u001b[1;33m\u001b[0m\u001b[1;33m\u001b[0m\u001b[0m\n\u001b[0;32m      3\u001b[0m \u001b[0mweight\u001b[0m \u001b[1;33m=\u001b[0m \u001b[0mfloat\u001b[0m\u001b[1;33m(\u001b[0m\u001b[0minput\u001b[0m\u001b[1;33m(\u001b[0m\u001b[1;34m\"Enter your weight(kg): \"\u001b[0m\u001b[1;33m)\u001b[0m\u001b[1;33m)\u001b[0m\u001b[1;33m\u001b[0m\u001b[1;33m\u001b[0m\u001b[0m\n\u001b[0;32m      4\u001b[0m \u001b[0mprint\u001b[0m\u001b[1;33m(\u001b[0m\u001b[1;34mF\"Hello {name}, your Body Mass Index (BMI) is: \"\u001b[0m\u001b[1;33m,\u001b[0m \u001b[0mround\u001b[0m\u001b[1;33m(\u001b[0m\u001b[0mweight\u001b[0m \u001b[1;33m/\u001b[0m \u001b[1;33m(\u001b[0m\u001b[0mheight\u001b[0m \u001b[1;33m**\u001b[0m \u001b[1;36m2\u001b[0m\u001b[1;33m)\u001b[0m\u001b[1;33m,\u001b[0m \u001b[1;36m2\u001b[0m\u001b[1;33m)\u001b[0m\u001b[1;33m)\u001b[0m\u001b[1;33m\u001b[0m\u001b[1;33m\u001b[0m\u001b[0m\n",
      "\u001b[1;32m~\\anaconda3\\lib\\site-packages\\ipykernel\\kernelbase.py\u001b[0m in \u001b[0;36mraw_input\u001b[1;34m(self, prompt)\u001b[0m\n\u001b[0;32m   1175\u001b[0m                 \u001b[1;34m\"raw_input was called, but this frontend does not support input requests.\"\u001b[0m\u001b[1;33m\u001b[0m\u001b[1;33m\u001b[0m\u001b[0m\n\u001b[0;32m   1176\u001b[0m             )\n\u001b[1;32m-> 1177\u001b[1;33m         return self._input_request(\n\u001b[0m\u001b[0;32m   1178\u001b[0m             \u001b[0mstr\u001b[0m\u001b[1;33m(\u001b[0m\u001b[0mprompt\u001b[0m\u001b[1;33m)\u001b[0m\u001b[1;33m,\u001b[0m\u001b[1;33m\u001b[0m\u001b[1;33m\u001b[0m\u001b[0m\n\u001b[0;32m   1179\u001b[0m             \u001b[0mself\u001b[0m\u001b[1;33m.\u001b[0m\u001b[0m_parent_ident\u001b[0m\u001b[1;33m[\u001b[0m\u001b[1;34m\"shell\"\u001b[0m\u001b[1;33m]\u001b[0m\u001b[1;33m,\u001b[0m\u001b[1;33m\u001b[0m\u001b[1;33m\u001b[0m\u001b[0m\n",
      "\u001b[1;32m~\\anaconda3\\lib\\site-packages\\ipykernel\\kernelbase.py\u001b[0m in \u001b[0;36m_input_request\u001b[1;34m(self, prompt, ident, parent, password)\u001b[0m\n\u001b[0;32m   1217\u001b[0m             \u001b[1;32mexcept\u001b[0m \u001b[0mKeyboardInterrupt\u001b[0m\u001b[1;33m:\u001b[0m\u001b[1;33m\u001b[0m\u001b[1;33m\u001b[0m\u001b[0m\n\u001b[0;32m   1218\u001b[0m                 \u001b[1;31m# re-raise KeyboardInterrupt, to truncate traceback\u001b[0m\u001b[1;33m\u001b[0m\u001b[1;33m\u001b[0m\u001b[0m\n\u001b[1;32m-> 1219\u001b[1;33m                 \u001b[1;32mraise\u001b[0m \u001b[0mKeyboardInterrupt\u001b[0m\u001b[1;33m(\u001b[0m\u001b[1;34m\"Interrupted by user\"\u001b[0m\u001b[1;33m)\u001b[0m \u001b[1;32mfrom\u001b[0m \u001b[1;32mNone\u001b[0m\u001b[1;33m\u001b[0m\u001b[1;33m\u001b[0m\u001b[0m\n\u001b[0m\u001b[0;32m   1220\u001b[0m             \u001b[1;32mexcept\u001b[0m \u001b[0mException\u001b[0m\u001b[1;33m:\u001b[0m\u001b[1;33m\u001b[0m\u001b[1;33m\u001b[0m\u001b[0m\n\u001b[0;32m   1221\u001b[0m                 \u001b[0mself\u001b[0m\u001b[1;33m.\u001b[0m\u001b[0mlog\u001b[0m\u001b[1;33m.\u001b[0m\u001b[0mwarning\u001b[0m\u001b[1;33m(\u001b[0m\u001b[1;34m\"Invalid Message:\"\u001b[0m\u001b[1;33m,\u001b[0m \u001b[0mexc_info\u001b[0m\u001b[1;33m=\u001b[0m\u001b[1;32mTrue\u001b[0m\u001b[1;33m)\u001b[0m\u001b[1;33m\u001b[0m\u001b[1;33m\u001b[0m\u001b[0m\n",
      "\u001b[1;31mKeyboardInterrupt\u001b[0m: Interrupted by user"
     ]
    }
   ],
   "source": [
    "name = str(input(\"Enter your name: \"))\n",
    "height = float(input(\"Enter your height(m): \"))\n",
    "weight = float(input(\"Enter your weight(kg): \"))\n",
    "print(F\"Hello {name}, your Body Mass Index (BMI) is: \", round(weight / (height ** 2), 2))"
   ]
  },
  {
   "cell_type": "code",
   "execution_count": 28,
   "id": "f4014c16",
   "metadata": {},
   "outputs": [
    {
     "name": "stdout",
     "output_type": "stream",
     "text": [
      "Enter your weight: 60\n",
      "Enter your height: 2.5\n",
      "Your BMI is: \n",
      "0.41869112156103044\n"
     ]
    }
   ],
   "source": [
    "def BMI(weight,height):\n",
    "    result = weight/(height**2)\n",
    "    return result\n",
    "weight = float(input(\"Enter your weight: \"))\n",
    "height = float(input(\"Enter your height: \"))\n",
    "print(\"Your BMI is: \")\n",
    "\n",
    "print(BMI(67, 12.65))"
   ]
  },
  {
   "cell_type": "code",
   "execution_count": 5,
   "id": "35db2527",
   "metadata": {},
   "outputs": [
    {
     "name": "stdout",
     "output_type": "stream",
     "text": [
      "What is your name: DANIEL JAMES\n",
      "How old are you: 42\n",
      "Welcome DANIEL JAMES. You were born in the year 1981\n"
     ]
    }
   ],
   "source": [
    "my_name = input(\"What is your name: \")\n",
    "age = int(input(\"How old are you: \"))\n",
    "a = int((2023 - age));\n",
    "print(F\"Welcome {my_name}. You were born in the year {a}\")"
   ]
  },
  {
   "cell_type": "code",
   "execution_count": 29,
   "id": "ee60ed55",
   "metadata": {},
   "outputs": [
    {
     "name": "stdout",
     "output_type": "stream",
     "text": [
      "Enter Marks Obtained in 5 Subjects: \n",
      "Enter Course Code: cpe 313\n",
      "Enter score for cpe 313: 73\n",
      "Enter number of units for cpe 313: 3\n",
      "Enter Course Code: cpe 321\n",
      "Enter score for cpe 321: 61\n",
      "Enter number of units for cpe 321: 3\n",
      "Enter Course Code: eeg 342\n",
      "Enter score for eeg 342: 60\n",
      "Enter number of units for eeg 342: 3\n",
      "Enter Course Code: eeg 311\n",
      "Enter score for eeg 311: 71\n",
      "Enter number of units for eeg 311: 2\n",
      "Enter Course Code: eeg 331\n",
      "Enter score for eeg 331: 70\n",
      "Enter number of units for eeg 331: 3\n",
      "Your CGPA is:  4.57\n"
     ]
    }
   ],
   "source": [
    "print(\"Enter Marks Obtained in 5 Subjects: \")\n",
    "course1 = str(input(\"Enter Course Code: \"))\n",
    "markOne = int(input(F\"Enter score for {course1}: \"))\n",
    "unitone = int(input(F\"Enter number of units for {course1}: \"))\n",
    "course2 = str(input(\"Enter Course Code: \"))\n",
    "markTwo = int(input(F\"Enter score for {course2}: \"))\n",
    "unittwo = int(input(F\"Enter number of units for {course2}: \"))\n",
    "course3 = str(input(\"Enter Course Code: \"))\n",
    "markThree = int(input(F\"Enter score for {course3}: \"))\n",
    "unitthree = int(input(F\"Enter number of units for {course3}: \"))\n",
    "course4 = str(input(\"Enter Course Code: \"))\n",
    "markFour = int(input(F\"Enter score for {course4}: \"))\n",
    "unitfour = int(input(F\"Enter number of units for {course4}: \"))\n",
    "course5 = str(input(\"Enter Course Code: \"))\n",
    "markFive = int(input(F\"Enter score for {course5}: \"))\n",
    "unitfive = int(input(F\"Enter number of units for {course5}: \"))\n",
    "\n",
    "if markOne>=70 and markOne<=100:\n",
    "    a = 5;\n",
    "elif markOne>=60 and markOne<70:\n",
    "    a = 4;\n",
    "elif markOne>=50 and markOne<60:\n",
    "    a = 3;\n",
    "elif markOne>=45 and markOne<50:\n",
    "    a = 2;\n",
    "elif markOne>=40 and markOne<45:\n",
    "    a = 1;\n",
    "elif markOne>=0 and markOne<40:\n",
    "    a = 0;\n",
    "else:\n",
    "    print(\"Invalid Input!\")\n",
    "    \n",
    "if markTwo>=70 and markTwo<=100:\n",
    "    b = 5;\n",
    "elif markTwo>=60 and markTwo<70:\n",
    "    b = 4;\n",
    "elif markTwo>=50 and markTwo<60:\n",
    "    b = 3;\n",
    "elif markTwo>=45 and markTwo<50:\n",
    "    b = 2;\n",
    "elif markTwo>=40 and markTwo<45:\n",
    "    b = 1;\n",
    "elif markTwo>=0 and markTwo<40:\n",
    "    b = 0;\n",
    "else:\n",
    "    print(\"Invalid Input!\")\n",
    "    \n",
    "if markThree>=70 and markThree<=100:\n",
    "    c = 5;\n",
    "elif markThree>=60 and markThree<70:\n",
    "    c = 4;\n",
    "elif markThree>=50 and markThree<60:\n",
    "    c = 3;\n",
    "elif markThree>=45 and markThree<50:\n",
    "    c = 2;\n",
    "elif markThree>=40 and markThree<45:\n",
    "    c = 1;\n",
    "elif markThree>=0 and markThree<40:\n",
    "    c = 0;\n",
    "else:\n",
    "    print(\"Invalid Input!\")\n",
    "    \n",
    "if markFour>=70 and markFour<=100:\n",
    "    d = 5;\n",
    "elif markFour>=60 and markFour<70:\n",
    "    d = 4;\n",
    "elif markFor>=50 and markFour<60:\n",
    "    d = 3;\n",
    "elif markFour>=45 and markFour<50:\n",
    "    d = 2;\n",
    "elif markFour>=40 and markFour<45:\n",
    "    d = 1;\n",
    "elif markFour>=0 and markFour<40:\n",
    "    d = 0;\n",
    "else:\n",
    "    print(\"Invalid Input!\")\n",
    "     \n",
    "if markFive>=70 and markFive<=100:\n",
    "    e = 5;\n",
    "elif markFive>=60 and markFive<70:\n",
    "    e = 4;\n",
    "elif markFive>=50 and markFive<60:\n",
    "    e = 3;\n",
    "elif markFive>=45 and markFive<50:\n",
    "    e = 2;\n",
    "elif markFive>=40 and markFive<45:\n",
    "    e = 1;\n",
    "elif markFive>=0 and markFive<40:\n",
    "    e = 0;\n",
    "else:\n",
    "    print(\"Invalid Input!\")\n",
    "    \n",
    "tot = (a*unitone + b*unittwo + c*unitthree + d*unitfour + e*unitfive)\n",
    "tot_unit = unitone+unittwo+unitthree+unitfour+unitfive\n",
    "avg = float(tot/tot_unit)\n",
    "\n",
    "print(\"Your CGPA is: \", round(avg, 2))"
   ]
  },
  {
   "cell_type": "code",
   "execution_count": null,
   "id": "c4d3d803",
   "metadata": {},
   "outputs": [],
   "source": []
  },
  {
   "cell_type": "code",
   "execution_count": null,
   "id": "5d21620d",
   "metadata": {},
   "outputs": [],
   "source": []
  }
 ],
 "metadata": {
  "kernelspec": {
   "display_name": "Python 3 (ipykernel)",
   "language": "python",
   "name": "python3"
  },
  "language_info": {
   "codemirror_mode": {
    "name": "ipython",
    "version": 3
   },
   "file_extension": ".py",
   "mimetype": "text/x-python",
   "name": "python",
   "nbconvert_exporter": "python",
   "pygments_lexer": "ipython3",
   "version": "3.9.13"
  }
 },
 "nbformat": 4,
 "nbformat_minor": 5
}
